{
 "cells": [
  {
   "cell_type": "markdown",
   "metadata": {},
   "source": [
    "## Assignment 2"
   ]
  },
  {
   "cell_type": "code",
   "execution_count": 176,
   "metadata": {},
   "outputs": [
    {
     "data": {
      "text/plain": [
       "19"
      ]
     },
     "execution_count": 176,
     "metadata": {},
     "output_type": "execute_result"
    }
   ],
   "source": [
    "#1.1\n",
    "\n",
    "\n",
    "_initial_missing = object()\n",
    "\n",
    "def myreduce(function, sequence, initial=_initial_missing):\n",
    "    \n",
    "\n",
    "    it = iter(sequence)\n",
    "\n",
    "    if initial is _initial_missing:\n",
    "        try:\n",
    "            value = next(it)\n",
    "        except StopIteration:\n",
    "            raise TypeError(\"reduce() of empty sequence with no initial value\") from None\n",
    "    else:\n",
    "        value = initial\n",
    "\n",
    "    for element in it:\n",
    "        value = function(value, element)\n",
    "\n",
    "    return value\n",
    "\n",
    "lst= [2,4,5,8]\n",
    "myreduce(lambda x,y: x+y,lst)"
   ]
  },
  {
   "cell_type": "code",
   "execution_count": 161,
   "metadata": {},
   "outputs": [
    {
     "data": {
      "text/plain": [
       "[3, 6]"
      ]
     },
     "execution_count": 161,
     "metadata": {},
     "output_type": "execute_result"
    }
   ],
   "source": [
    "#1.2\n",
    "\n",
    "def myfilter (function,sequence):\n",
    "    \n",
    "    it = iter(sequence)\n",
    "    l=[]\n",
    "    new=iter(l)\n",
    "    for elem in it:\n",
    "        if function(elem):\n",
    "            l.append(elem)\n",
    "        else:\n",
    "            continue\n",
    "    return new\n",
    "\n",
    "lst=[2,3,4,5,6,10]\n",
    "a=list(myfilter(lambda x:x%3==0, lst))\n",
    "           \n",
    "a          \n",
    "            "
   ]
  },
  {
   "cell_type": "code",
   "execution_count": 47,
   "metadata": {},
   "outputs": [
    {
     "data": {
      "text/plain": [
       "['A', 'C', 'A', 'D', 'G', 'L', 'I', 'D']"
      ]
     },
     "execution_count": 47,
     "metadata": {},
     "output_type": "execute_result"
    }
   ],
   "source": [
    "#1.3\n",
    "\n",
    "s= \"ACADGLID\"\n",
    "\n",
    "i=[i for i in s]\n",
    "i"
   ]
  },
  {
   "cell_type": "code",
   "execution_count": 78,
   "metadata": {},
   "outputs": [
    {
     "data": {
      "text/plain": [
       "['x', 'xx', 'xxx', 'xxxx', 'y', 'yy', 'yyy', 'yyyy', 'z', 'zz', 'zzz', 'zzzz']"
      ]
     },
     "execution_count": 78,
     "metadata": {},
     "output_type": "execute_result"
    }
   ],
   "source": [
    "st = \"xyz\"\n",
    "lst = [i*count for i in st  for count in range(5) if count!=0]\n",
    "lst"
   ]
  },
  {
   "cell_type": "code",
   "execution_count": 114,
   "metadata": {},
   "outputs": [
    {
     "data": {
      "text/plain": [
       "['x', 'y', 'z', 'xx', 'yy', 'zz', 'xx', 'yy', 'zz', 'xxxx', 'yyyy', 'zzzz']"
      ]
     },
     "execution_count": 114,
     "metadata": {},
     "output_type": "execute_result"
    }
   ],
   "source": [
    "st = \"xyz\"\n",
    "\n",
    "lst1 = [i*n for n in range(1,3,1) for i in st]\n",
    "lst2 =[i*n for n in range(2,5,2) if n!=3 for i in st]\n",
    "lst1+lst2\n"
   ]
  },
  {
   "cell_type": "code",
   "execution_count": 145,
   "metadata": {},
   "outputs": [
    {
     "data": {
      "text/plain": [
       "[[2, 3, 4, 5], [3, 4, 5, 6], [4, 5, 6, 7], [5, 6, 7, 8]]"
      ]
     },
     "execution_count": 145,
     "metadata": {},
     "output_type": "execute_result"
    }
   ],
   "source": [
    "lst = [[i for i in range(2,6,1)],[i for i in range(3,7,1)],[i for i in range(4,8,1)],[i for i in range(5,9,1)]]\n",
    "lst1 = [lst[i] for i in range(len(lst)) ]\n",
    "\n",
    "lst1"
   ]
  },
  {
   "cell_type": "code",
   "execution_count": 141,
   "metadata": {},
   "outputs": [
    {
     "data": {
      "text/plain": [
       "[(1, 1), (2, 1), (3, 1), (1, 2), (2, 2), (3, 2), (1, 3), (2, 3), (3, 3)]"
      ]
     },
     "execution_count": 141,
     "metadata": {},
     "output_type": "execute_result"
    }
   ],
   "source": [
    "li = [1,2,3]\n",
    "result = [(j,i) for i in li for j in range(1,4)]\n",
    "result"
   ]
  },
  {
   "cell_type": "code",
   "execution_count": 177,
   "metadata": {},
   "outputs": [
    {
     "data": {
      "text/plain": [
       "'ancdfgnkhgf'"
      ]
     },
     "execution_count": 177,
     "metadata": {},
     "output_type": "execute_result"
    }
   ],
   "source": [
    "#3\n",
    "\n",
    "def longword(lst):\n",
    "    maxl=0\n",
    "    for i in lst :\n",
    "        \n",
    "        if len(i)>maxl:\n",
    "            maxl=len(i)\n",
    "            maxind=lst.index(i)\n",
    "    return lst[maxind] \n",
    "    \n",
    "longword(['adsaxfebc','ancnfj','ancdfgnkhgf'])       "
   ]
  },
  {
   "cell_type": "markdown",
   "metadata": {},
   "source": [
    "## Task2"
   ]
  },
  {
   "cell_type": "code",
   "execution_count": 160,
   "metadata": {},
   "outputs": [
    {
     "name": "stdout",
     "output_type": "stream",
     "text": [
      "10.825317547305483\n"
     ]
    }
   ],
   "source": [
    "#1.1\n",
    "\n",
    "class Triangle:\n",
    "    def __init__(self,a,b,c):\n",
    "        self.__a=a\n",
    "        self.__b=b\n",
    "        self.__c=c\n",
    "    def area(self):\n",
    "        s=(self.__a+self.__b+self.__c)/2\n",
    "        return ((s*(s-self.__a)*(s-self.__b)*(s-self.__c))**0.5)\n",
    "\n",
    "obj = Triangle(5.0,5.0,5.0)\n",
    "print(obj.area())\n",
    "        "
   ]
  },
  {
   "cell_type": "code",
   "execution_count": 167,
   "metadata": {},
   "outputs": [
    {
     "data": {
      "text/plain": [
       "['dbcfn', 'asdjcng']"
      ]
     },
     "execution_count": 167,
     "metadata": {},
     "output_type": "execute_result"
    }
   ],
   "source": [
    "#1.2\n",
    "\n",
    "def filter_long_words(lst,n):\n",
    "        l=[i for i in lst if len(i)>n]\n",
    "        return l\n",
    "\n",
    "\n",
    "ls=['abc','abcd','dbcfn','asdjcng']\n",
    "filter_long_words(ls,4)\n",
    "        "
   ]
  },
  {
   "cell_type": "code",
   "execution_count": 168,
   "metadata": {},
   "outputs": [
    {
     "data": {
      "text/plain": [
       "[2, 3, 5]"
      ]
     },
     "execution_count": 168,
     "metadata": {},
     "output_type": "execute_result"
    }
   ],
   "source": [
    "#2.1\n",
    "\n",
    "def lenofwrd(st):\n",
    "    return len(st)\n",
    "\n",
    "a=['ab','anc','asjfn']\n",
    "b=list(map(lenofwrd,a))\n",
    "b"
   ]
  },
  {
   "cell_type": "code",
   "execution_count": 175,
   "metadata": {},
   "outputs": [
    {
     "data": {
      "text/plain": [
       "False"
      ]
     },
     "execution_count": 175,
     "metadata": {},
     "output_type": "execute_result"
    }
   ],
   "source": [
    "#2.2\n",
    "\n",
    "def vowel(a):\n",
    "    if a in ['a','e','i','o','u']:\n",
    "        return True\n",
    "    else:\n",
    "        return False\n",
    "\n",
    "vowel('l')"
   ]
  },
  {
   "cell_type": "code",
   "execution_count": null,
   "metadata": {},
   "outputs": [],
   "source": []
  },
  {
   "cell_type": "code",
   "execution_count": null,
   "metadata": {},
   "outputs": [],
   "source": []
  }
 ],
 "metadata": {
  "kernelspec": {
   "display_name": "Python 3",
   "language": "python",
   "name": "python3"
  },
  "language_info": {
   "codemirror_mode": {
    "name": "ipython",
    "version": 3
   },
   "file_extension": ".py",
   "mimetype": "text/x-python",
   "name": "python",
   "nbconvert_exporter": "python",
   "pygments_lexer": "ipython3",
   "version": "3.7.4"
  }
 },
 "nbformat": 4,
 "nbformat_minor": 2
}
