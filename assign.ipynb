{
 "cells": [
  {
   "cell_type": "markdown",
   "metadata": {},
   "source": [
    "# Python Assignment "
   ]
  },
  {
   "cell_type": "markdown",
   "metadata": {},
   "source": [
    "## Task1"
   ]
  },
  {
   "cell_type": "code",
   "execution_count": 1,
   "metadata": {},
   "outputs": [
    {
     "name": "stdout",
     "output_type": "stream",
     "text": [
      "Hello world\n"
     ]
    }
   ],
   "source": [
    "#Q1\n",
    "\n",
    "print ('Hello world')"
   ]
  },
  {
   "cell_type": "code",
   "execution_count": 4,
   "metadata": {},
   "outputs": [
    {
     "name": "stdout",
     "output_type": "stream",
     "text": [
      "2002,2009,2016,2023,2037,2044,2051,2058,2072,2079,2086,2093,2107,2114,2121,2128,2142,2149,2156,2163,2177,2184,2191,2198,2212,2219,2226,2233,2247,2254,2261,2268,2282,2289,2296,2303,2317,2324,2331,2338,2352,2359,2366,2373,2387,2394,2401,2408,2422,2429,2436,2443,2457,2464,2471,2478,2492,2499,2506,2513,2527,2534,2541,2548,2562,2569,2576,2583,2597,2604,2611,2618,2632,2639,2646,2653,2667,2674,2681,2688,2702,2709,2716,2723,2737,2744,2751,2758,2772,2779,2786,2793,2807,2814,2821,2828,2842,2849,2856,2863,2877,2884,2891,2898,2912,2919,2926,2933,2947,2954,2961,2968,2982,2989,2996,3003,3017,3024,3031,3038,3052,3059,3066,3073,3087,3094,3101,3108,3122,3129,3136,3143,3157,3164,3171,3178,3192,3199,"
     ]
    }
   ],
   "source": [
    "#Q.2\n",
    "\n",
    "for i in range(2000,3201):\n",
    "    if (i%5!=0)and(i%7==0):\n",
    "        print(i,end=\",\")        "
   ]
  },
  {
   "cell_type": "code",
   "execution_count": 5,
   "metadata": {},
   "outputs": [
    {
     "name": "stdout",
     "output_type": "stream",
     "text": [
      "Enter your first name: raghav\n",
      "Enter your last name: bk\n",
      "bk raghav\n"
     ]
    }
   ],
   "source": [
    "#Q.3\n",
    "\n",
    "a=input(\"Enter your first name: \")\n",
    "b=input(\"Enter your last name: \")\n",
    "\n",
    "print (b + \" \" + a)"
   ]
  },
  {
   "cell_type": "code",
   "execution_count": 6,
   "metadata": {},
   "outputs": [
    {
     "data": {
      "text/plain": [
       "904.7807999999999"
      ]
     },
     "execution_count": 6,
     "metadata": {},
     "output_type": "execute_result"
    }
   ],
   "source": [
    "#Q.4\n",
    "\n",
    "pi=3.1416\n",
    "d= 12\n",
    "v= (4/3)*pi*(d/2)**3\n",
    "v"
   ]
  },
  {
   "cell_type": "markdown",
   "metadata": {},
   "source": [
    "# Task2"
   ]
  },
  {
   "cell_type": "code",
   "execution_count": 9,
   "metadata": {},
   "outputs": [
    {
     "name": "stdout",
     "output_type": "stream",
     "text": [
      "enter numbers seperated by ,2,3,4.5\n"
     ]
    },
    {
     "data": {
      "text/plain": [
       "[2.0, 3.0, 4.5]"
      ]
     },
     "execution_count": 9,
     "metadata": {},
     "output_type": "execute_result"
    }
   ],
   "source": [
    "#Q1\n",
    "\n",
    "a=input(\"enter numbers seperated by ,\")\n",
    "b= a\n",
    "l=b.split(',')\n",
    "lst=[]\n",
    "for i in l :\n",
    "    lst.append(float(i))\n",
    "    \n",
    "\n",
    "\n",
    "lst"
   ]
  },
  {
   "cell_type": "code",
   "execution_count": 16,
   "metadata": {},
   "outputs": [
    {
     "name": "stdout",
     "output_type": "stream",
     "text": [
      "* \r\n",
      "* * \r\n",
      "* * * \r\n",
      "* * * * \r\n",
      "* * * * * \r\n",
      "* * * * \r\n",
      "* * * \r\n",
      "* * \r\n",
      "* \r\n",
      "\r\n"
     ]
    }
   ],
   "source": [
    "#Q2\n",
    "\n",
    "n=5\n",
    "for i in range(0, n): \n",
    "      \n",
    "        \n",
    "        for j in range(0, i+1): \n",
    "          \n",
    "            # printing stars \n",
    "            print(\"* \",end=\"\") \n",
    "       \n",
    "        # ending line after each row \n",
    "        print(\"\\r\") \n",
    "\n",
    "\n",
    "for i in range(0,n):\n",
    "    \n",
    "        for j in range (1,n-i):\n",
    "            print(\"* \",end=\"\") \n",
    "       \n",
    "        \n",
    "        print(\"\\r\")\n",
    "            "
   ]
  },
  {
   "cell_type": "code",
   "execution_count": 4,
   "metadata": {},
   "outputs": [
    {
     "name": "stdout",
     "output_type": "stream",
     "text": [
      "Ener a word acadglid\n",
      "input word :acadglid\n",
      "output word : dilgdaca \n"
     ]
    }
   ],
   "source": [
    "#Q3\n",
    "\n",
    "a=input(\"Ener a word \")\n",
    "r=' '\n",
    "for i in a:\n",
    "    r=i+r\n",
    "\n",
    "print('input word :'+a)\n",
    "print('output word : '+r)"
   ]
  },
  {
   "cell_type": "code",
   "execution_count": 21,
   "metadata": {},
   "outputs": [
    {
     "name": "stdout",
     "output_type": "stream",
     "text": [
      "WE, THE PEOPLE OF INDIA, \n",
      "\thaving solemnly resolved to constitute India into a SOVEREIGN, !\n",
      "\t\tSOCIALIST, SECULAR, DEMOCRATIC REPUBLIC \n",
      "\t\t and to secure to all its citizens "
     ]
    }
   ],
   "source": [
    "#Q4\n",
    "\n",
    "a= \"WE, THE PEOPLE OF INDIA, having solemnly resolved to constitute India into a SOVEREIGN, SOCIALIST, SECULAR, DEMOCRATIC REPUBLIC and to secure to all its citizens \"\n",
    "\n",
    "ind = a.find('having')\n",
    "\n",
    "b = a[:ind]+'\\n'+'\\t'+a[ind:]\n",
    "\n",
    "ind1 = b.find('SOCIALIST')\n",
    "\n",
    "c = b[:ind1]+'!'+'\\n'+'\\t'+'\\t'+b[ind1:]\n",
    "\n",
    "ind= c.find('and')\n",
    "d =c[:ind]+'\\n'+'\\t'+'\\t'+' '+c[ind:]\n",
    "\n",
    "print(d,end='')\n",
    "        "
   ]
  },
  {
   "cell_type": "code",
   "execution_count": null,
   "metadata": {},
   "outputs": [],
   "source": []
  },
  {
   "cell_type": "code",
   "execution_count": null,
   "metadata": {},
   "outputs": [],
   "source": []
  }
 ],
 "metadata": {
  "kernelspec": {
   "display_name": "Python 3",
   "language": "python",
   "name": "python3"
  },
  "language_info": {
   "codemirror_mode": {
    "name": "ipython",
    "version": 3
   },
   "file_extension": ".py",
   "mimetype": "text/x-python",
   "name": "python",
   "nbconvert_exporter": "python",
   "pygments_lexer": "ipython3",
   "version": "3.7.4"
  }
 },
 "nbformat": 4,
 "nbformat_minor": 2
}
